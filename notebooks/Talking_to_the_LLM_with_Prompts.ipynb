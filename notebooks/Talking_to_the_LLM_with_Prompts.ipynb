{
  "nbformat": 4,
  "nbformat_minor": 0,
  "metadata": {
    "colab": {
      "provenance": [],
      "collapsed_sections": [
        "aKP5QkYp6tQh",
        "e0WXiuHBrEXZ",
        "DxixueIT5gvL"
      ],
      "authorship_tag": "ABX9TyOBONWzet9Z/bmclgWr2PmA",
      "include_colab_link": true
    },
    "kernelspec": {
      "name": "python3",
      "display_name": "Python 3"
    },
    "language_info": {
      "name": "python"
    }
  },
  "cells": [
    {
      "cell_type": "markdown",
      "metadata": {
        "id": "view-in-github",
        "colab_type": "text"
      },
      "source": [
        "<a href=\"https://colab.research.google.com/github/novacellus/workshop_llms_25/blob/main/notebooks/Talking_to_the_LLM_with_Prompts.ipynb\" target=\"_parent\"><img src=\"https://colab.research.google.com/assets/colab-badge.svg\" alt=\"Open In Colab\"/></a>"
      ]
    },
    {
      "cell_type": "markdown",
      "source": [
        "# Setting up the environment\n",
        "This hands on session will teach you how to communicate with Large Language Models through prompt engineering. We will cover prompt components and experiment with different prompt structures but first we must do some set up."
      ],
      "metadata": {
        "id": "JI8E74jRO_4O"
      }
    },
    {
      "cell_type": "markdown",
      "source": [
        "## Defining API query function"
      ],
      "metadata": {
        "id": "13BFwU5PQzbR"
      }
    },
    {
      "cell_type": "code",
      "execution_count": 1,
      "metadata": {
        "id": "UNQNLKvidYHu"
      },
      "outputs": [],
      "source": [
        "from openai import OpenAI\n",
        "from google.colab import userdata\n",
        "api_key = userdata.get('OPENAI_API_KEY') # read in the secret API key to a variable\n",
        "\n",
        "client = OpenAI(api_key=api_key)"
      ]
    },
    {
      "cell_type": "code",
      "source": [
        "# Selected models\n",
        "MODELS = [\n",
        "    \"gpt-4.1\",      # \"Flagship GPT model for complex tasks\": $2.00 / $8.00\n",
        "    \"gpt-4.1-nano\",    # \"Fastest, most cost-effective GPT-4.1 model\": $0.10 / $0.40\n",
        "]\n",
        "\n",
        "def query_models(models, prompt, system_prompt=\"You are a helpful assistant.\", max_tokens=250):\n",
        "    \"\"\"\n",
        "    Query multiple models with the same prompt\n",
        "\n",
        "    Args:\n",
        "        models (list): List of model names to use\n",
        "        prompt (str): The user prompt\n",
        "        system_prompt (str): The system prompt\n",
        "        max_tokens (int): Maximum response length\n",
        "\n",
        "    Returns:\n",
        "        dict: Results with model names as keys and responses as values\n",
        "    \"\"\"\n",
        "    # Print the prompt\n",
        "    print(f\"PROMPT:\\n{prompt}\\n\")\n",
        "    print(f\"SYSTEM:\\n{system_prompt}\\n\")\n",
        "    print(\"-\" * 50)\n",
        "\n",
        "    results = {}\n",
        "\n",
        "    for model in models:\n",
        "        print(f\"\\nQuerying {model}...\")\n",
        "\n",
        "        try:\n",
        "            response = client.chat.completions.create(\n",
        "                model=model,\n",
        "                messages=[\n",
        "                    {\"role\": \"system\", \"content\": system_prompt},\n",
        "                    {\"role\": \"user\", \"content\": prompt}\n",
        "                ],\n",
        "                max_tokens=max_tokens,\n",
        "                temperature=0.2  # Lower temperature for more consistent results\n",
        "            )\n",
        "\n",
        "            response_text = response.choices[0].message.content\n",
        "\n",
        "            # Print model name and response\n",
        "            print(f\"\\nMODEL: {model}\")\n",
        "            print(f\"RESPONSE:\\n{response_text}\")\n",
        "            print(\"-\" * 50)\n",
        "\n",
        "            results[model] = response_text\n",
        "\n",
        "        except Exception as e:\n",
        "            print(f\"\\nMODEL: {model}\")\n",
        "            print(f\"ERROR: {str(e)}\")\n",
        "            print(\"-\" * 50)\n",
        "            results[model] = f\"Error: {str(e)}\"\n",
        "\n",
        "    return results\n",
        "\n",
        "# Simplified wrapper function that matches the expected name in your notebook\n",
        "def call_llm_and_get_answer(models, prompt, system_prompt=\"You are a helpful assistant.\", max_tokens=400):\n",
        "    \"\"\"\n",
        "    Query multiple models with the same prompt and return all responses.\n",
        "\n",
        "    Args:\n",
        "        prompt (str): The user prompt\n",
        "        system_prompt (str): The system prompt\n",
        "        max_tokens (int): Maximum response length\n",
        "\n",
        "    Returns:\n",
        "        str: Formatted string containing responses from all available models\n",
        "    \"\"\"\n",
        "    print(f\"PROMPT:\\n{prompt}\\n\")\n",
        "    print(f\"SYSTEM:\\n{system_prompt}\\n\")\n",
        "    print(\"-\" * 50)\n",
        "\n",
        "    all_responses = []\n",
        "\n",
        "    for model in models:\n",
        "        print(f\"\\nQuerying {model}...\")\n",
        "\n",
        "        try:\n",
        "            response = client.chat.completions.create(\n",
        "                model=model,\n",
        "                messages=[\n",
        "                    {\"role\": \"system\", \"content\": system_prompt},\n",
        "                    {\"role\": \"user\", \"content\": prompt}\n",
        "                ],\n",
        "                max_tokens=max_tokens,\n",
        "                temperature=0.2\n",
        "            )\n",
        "\n",
        "            response_text = response.choices[0].message.content\n",
        "\n",
        "            # Print model name and response\n",
        "            print(f\"\\nMODEL: {model}\")\n",
        "            print(f\"RESPONSE:\\n{response_text}\")\n",
        "            print(\"-\" * 50)\n",
        "\n",
        "            all_responses.append(f\"MODEL: {model}\\n\\n{response_text}\\n\\n{'='*40}\\n\")\n",
        "\n",
        "        except Exception as e:\n",
        "            print(f\"\\nMODEL: {model}\")\n",
        "            print(f\"ERROR: {str(e)}\")\n",
        "            print(\"-\" * 50)\n",
        "            all_responses.append(f\"MODEL: {model}\\n\\nError: {str(e)}\\n\\n{'='*40}\\n\")\n",
        "\n",
        "    # Return all responses formatted as a single string\n",
        "    #return \"\\n\".join(all_responses)"
      ],
      "metadata": {
        "id": "iGHgRWcfoMOd"
      },
      "execution_count": 2,
      "outputs": []
    },
    {
      "cell_type": "markdown",
      "source": [
        "Let's now test the `call_llm_and_get_answer(models, prompt, system_prompt)` function."
      ],
      "metadata": {
        "id": "u8ZvroZLlu6n"
      }
    },
    {
      "cell_type": "code",
      "source": [
        "call_llm_and_get_answer(models=MODELS, prompt=\"What's the capital of Italy?\")"
      ],
      "metadata": {
        "colab": {
          "base_uri": "https://localhost:8080/"
        },
        "id": "ayPXG6IMmla5",
        "outputId": "12113972-27ca-4779-f086-b39015af6482"
      },
      "execution_count": 3,
      "outputs": [
        {
          "output_type": "stream",
          "name": "stdout",
          "text": [
            "PROMPT:\n",
            "What's the capital of Italy?\n",
            "\n",
            "SYSTEM:\n",
            "You are a helpful assistant.\n",
            "\n",
            "--------------------------------------------------\n",
            "\n",
            "Querying gpt-4.1...\n",
            "\n",
            "MODEL: gpt-4.1\n",
            "RESPONSE:\n",
            "The capital of Italy is Rome.\n",
            "--------------------------------------------------\n",
            "\n",
            "Querying gpt-4.1-nano...\n",
            "\n",
            "MODEL: gpt-4.1-nano\n",
            "RESPONSE:\n",
            "The capital of Italy is Rome.\n",
            "--------------------------------------------------\n"
          ]
        }
      ]
    },
    {
      "cell_type": "markdown",
      "source": [
        "Notice that apart from `prompt` we're using `system prompt` argument in our API call. We set it by default to \"You are a helpful assistant.\" The system prompt establishes the LLM's 'persona' and overall context for the conversation, allowing us to define expertise and behavior patterns before presenting the specific query.\n"
      ],
      "metadata": {
        "id": "5lm42J27n8S9"
      }
    },
    {
      "cell_type": "code",
      "source": [
        "# YOUR TURN: Modify the system_prompt argument (and prompt itself if necessary)\n",
        "# to test how it impacts the results.\n",
        "call_llm_and_get_answer(MODELS, prompt=\"What's the capital of Italy?\",\n",
        "                        system_prompt=\"You are a helpful assistant.\")"
      ],
      "metadata": {
        "id": "kJMIddIZx9G8",
        "colab": {
          "base_uri": "https://localhost:8080/"
        },
        "outputId": "6544f73f-6b16-476c-d0e8-de326a777ae3"
      },
      "execution_count": 4,
      "outputs": [
        {
          "output_type": "stream",
          "name": "stdout",
          "text": [
            "PROMPT:\n",
            "What's the capital of Italy?\n",
            "\n",
            "SYSTEM:\n",
            "You are a helpful assistant.\n",
            "\n",
            "--------------------------------------------------\n",
            "\n",
            "Querying gpt-4.1...\n",
            "\n",
            "MODEL: gpt-4.1\n",
            "RESPONSE:\n",
            "The capital of Italy is Rome.\n",
            "--------------------------------------------------\n",
            "\n",
            "Querying gpt-4.1-nano...\n",
            "\n",
            "MODEL: gpt-4.1-nano\n",
            "RESPONSE:\n",
            "The capital of Italy is Rome.\n",
            "--------------------------------------------------\n"
          ]
        }
      ]
    },
    {
      "cell_type": "markdown",
      "source": [
        "# Exercise. Prompt Component Analysis: What Elements Matter Most?"
      ],
      "metadata": {
        "id": "aKP5QkYp6tQh"
      }
    },
    {
      "cell_type": "markdown",
      "source": [
        "### Define Prompt Components"
      ],
      "metadata": {
        "id": "e0WXiuHBrEXZ"
      }
    },
    {
      "cell_type": "code",
      "source": [
        "MODELS = [\n",
        "    \"gpt-4.1\",      # \"Flagship GPT model for complex tasks\": $2.00 / $8.00\n",
        "    \"gpt-4.1-nano\",    # \"Fastest, most cost-effective GPT-4.1 model\": $0.10 / $0.40\n",
        "]"
      ],
      "metadata": {
        "id": "FOep__E1GnWw"
      },
      "execution_count": 5,
      "outputs": []
    },
    {
      "cell_type": "markdown",
      "source": [
        "Below is a list of sample prompt components. Play with `prompt` and `system_prompt` arguments and observe how the composition of a prompt influences its result.\n",
        "1. Open a separate file in which you will document the experiment. Start by defining results you expect.\n",
        "1. Start with a basic structure and keep adding components.\n",
        "1. After each iteration, document the prompt used, the model, and the output.\n",
        "1. Evaluate results if they fit with your expected outcome. Which structure yielded best results?"
      ],
      "metadata": {
        "id": "E_wLLwRiIKRk"
      }
    },
    {
      "cell_type": "code",
      "source": [
        "persona = \"You are an expert in Latin philology and sentiment analysis.\"\n",
        "instruction = \"Classify the sentiment of the following Latin sentence as positive, negative, or neutral. Identify a maximum of 2 words that contribute most to this sentiment, define their grammatical properties, translate them into English, and provide etymology.\"\n",
        "context = \"This analysis is part of a workshop on hate speech detection in ancient texts.\"\n",
        "format_spec = \"\"\"Provide the response in following format:\n",
        "Overall Sentiment: [positive, negative, neutral]\n",
        "Word 1:\n",
        "   - Grammatical Properties:\n",
        "   - English Translation:\n",
        "   - Etymology:\n",
        "   - Contribution to Sentiment:\n",
        "Word 2:\n",
        "   - Grammatical Properties:\n",
        "   - English Translation:\n",
        "   - Etymology:\n",
        "   - Contribution to Sentiment:\n",
        "Explanation: [Brief justification of overall sentiment classification]\n",
        "\"\"\"\n",
        "audience = \"The level of detail should be appropriate for post-graduate students.\"\n",
        "tone = \"Use formal academic English.\"\n",
        "data = \"Sentences to analyze: quo usque tandem abutere, Catilina, patientia nostra? quam diu etiam furor iste tuus nos eludet?\""
      ],
      "metadata": {
        "id": "kmXAdYzbrG-M"
      },
      "execution_count": 6,
      "outputs": []
    },
    {
      "cell_type": "code",
      "source": [
        "# BASELINE TEST: Just instruction + data\n",
        "prompt = instruction + \" \" + data\n",
        "system_prompt = \"\"\n",
        "print(f\"Prompt: {prompt}\")\n",
        "print(f\"System prompt: {system_prompt}\")\n",
        "baseline_result = call_llm_and_get_answer(models=MODELS, prompt=prompt, system_prompt=system_prompt)\n",
        "print(\"=\"*80)"
      ],
      "metadata": {
        "id": "zpsqjzvtGMpq",
        "colab": {
          "base_uri": "https://localhost:8080/"
        },
        "outputId": "d47b8caf-d5b3-404d-e6b9-b72cf90cfda5"
      },
      "execution_count": 7,
      "outputs": [
        {
          "output_type": "stream",
          "name": "stdout",
          "text": [
            "Prompt: Classify the sentiment of the following Latin sentence as positive, negative, or neutral. Identify a maximum of 2 words that contribute most to this sentiment, define their grammatical properties, translate them into English, and provide etymology. Sentences to analyze: quo usque tandem abutere, Catilina, patientia nostra? quam diu etiam furor iste tuus nos eludet?\n",
            "System prompt: \n",
            "PROMPT:\n",
            "Classify the sentiment of the following Latin sentence as positive, negative, or neutral. Identify a maximum of 2 words that contribute most to this sentiment, define their grammatical properties, translate them into English, and provide etymology. Sentences to analyze: quo usque tandem abutere, Catilina, patientia nostra? quam diu etiam furor iste tuus nos eludet?\n",
            "\n",
            "SYSTEM:\n",
            "\n",
            "\n",
            "--------------------------------------------------\n",
            "\n",
            "Querying gpt-4.1...\n",
            "\n",
            "MODEL: gpt-4.1\n",
            "RESPONSE:\n",
            "### Sentiment Classification\n",
            "**Negative**\n",
            "\n",
            "### Key Words Contributing to Sentiment\n",
            "\n",
            "#### 1. **abutere**\n",
            "- **Grammatical properties:**  \n",
            "  - Verb, 2nd person singular, future indicative (or present subjunctive, but here future indicative), deponent, from *abutor*.\n",
            "- **Translation:**  \n",
            "  - \"Will you abuse\"\n",
            "- **Etymology:**  \n",
            "  - From Latin *ab-* (\"away, off\") + *utor* (\"to use\"), meaning \"to use up, abuse, misuse\".\n",
            "\n",
            "#### 2. **furor**\n",
            "- **Grammatical properties:**  \n",
            "  - Noun, masculine, nominative singular, 3rd declension.\n",
            "- **Translation:**  \n",
            "  - \"Madness\", \"rage\", \"fury\"\n",
            "- **Etymology:**  \n",
            "  - From Latin *furere* (\"to rage, be mad\"), related to *furia* (\"fury\").\n",
            "\n",
            "### Explanation\n",
            "The sentence expresses exasperation and accusation, with words like **abutere** (abuse) and **furor** (madness) indicating a negative sentiment toward Catiline's actions and character.\n",
            "--------------------------------------------------\n",
            "\n",
            "Querying gpt-4.1-nano...\n",
            "\n",
            "MODEL: gpt-4.1-nano\n",
            "RESPONSE:\n",
            "The sentiment of the sentence is **negative**.\n",
            "\n",
            "**Reasoning:**  \n",
            "The speaker is expressing frustration and reproach toward Catiline, implying that he is abusing patience and causing ongoing trouble. Words like \"abutere\" (abuse) and \"furor\" (fury/rage) contribute strongly to this negative tone.\n",
            "\n",
            "---\n",
            "\n",
            "### Key words contributing to the sentiment:\n",
            "\n",
            "1. **abutere**  \n",
            "   - **Grammatical properties:** Verb, 2nd person singular, future indicative, active voice, from the verb *abuti* (to abuse, to misuse).  \n",
            "   - **Translation:** \"you will abuse\" or \"you will misuse\"  \n",
            "   - **Etymology:** From Latin *abuti*, composed of *ab-* (away, from) + *uti* (to use). The root *uti* is related to the Latin *usus* (use, experience).\n",
            "\n",
            "2. **furor**  \n",
            "   - **Grammatical properties:** Noun, nominative singular, masculine.  \n",
            "   - **Translation:** \"fury,\" \"rage,\" or \"frenzy\"  \n",
            "   - **Etymology:** From Latin *furor*, meaning \"fury, madness,\" possibly related to *fur* (thief), implying a wild or uncontrollable nature.\n",
            "\n",
            "---\n",
            "\n",
            "### Summary:\n",
            "- **Sentiment:** Negative  \n",
            "- **Contributing words:** *abutere* (abuse), *furor* (fury)  \n",
            "- **Translations:**  \n",
            "  - *abutere*: \"you will abuse\"  \n",
            "  - *furor*: \"fury\"  \n",
            "\n",
            "These words highlight the speaker's accusatory tone, emphasizing frustration and concern over ongoing misconduct.\n",
            "--------------------------------------------------\n",
            "================================================================================\n"
          ]
        }
      ]
    },
    {
      "cell_type": "code",
      "source": [
        "# YOUR TURN: Design the prompt structure and test it\n",
        "# You may want to test one of the following:\n",
        "# TEST 1: Adding persona as system prompt (= domain expertise)\n",
        "# TEST 2: Adding format specification (= structured output)\n",
        "# TEST 3: Complete prompt structure (= all components)\n",
        "# TEST 4: Only Format + System Persona\n",
        "# TEST 5: Changing the context to different fields (e.g., \"advanced linguistics seminar\")\n",
        "\n",
        "print(\"\\n## TEST 1: Adding\")\n",
        "prompt = instruction + \" \" + data\n",
        "system_prompt = \"\"\n",
        "print(f\"Prompt: {prompt}\")\n",
        "print(f\"System prompt: {system_prompt}\")\n",
        "test1_result = call_llm_and_get_answer(MODELS, prompt=prompt, system_prompt=system_prompt)"
      ],
      "metadata": {
        "colab": {
          "base_uri": "https://localhost:8080/"
        },
        "id": "kv9EsYTQHXwN",
        "outputId": "0a794da7-d267-4e8b-f253-3afb38282463"
      },
      "execution_count": 8,
      "outputs": [
        {
          "output_type": "stream",
          "name": "stdout",
          "text": [
            "\n",
            "## TEST 1: Adding\n",
            "Prompt: Classify the sentiment of the following Latin sentence as positive, negative, or neutral. Identify a maximum of 2 words that contribute most to this sentiment, define their grammatical properties, translate them into English, and provide etymology. Sentences to analyze: quo usque tandem abutere, Catilina, patientia nostra? quam diu etiam furor iste tuus nos eludet?\n",
            "System prompt: \n",
            "PROMPT:\n",
            "Classify the sentiment of the following Latin sentence as positive, negative, or neutral. Identify a maximum of 2 words that contribute most to this sentiment, define their grammatical properties, translate them into English, and provide etymology. Sentences to analyze: quo usque tandem abutere, Catilina, patientia nostra? quam diu etiam furor iste tuus nos eludet?\n",
            "\n",
            "SYSTEM:\n",
            "\n",
            "\n",
            "--------------------------------------------------\n",
            "\n",
            "Querying gpt-4.1...\n",
            "\n",
            "MODEL: gpt-4.1\n",
            "RESPONSE:\n",
            "**Sentiment Classification:**  \n",
            "**Negative**\n",
            "\n",
            "---\n",
            "\n",
            "### 1. **Key Words Contributing to Sentiment**\n",
            "\n",
            "#### a. **abutere**\n",
            "- **Grammatical Properties:**  \n",
            "  - Verb, 2nd person singular, future indicative (or present subjunctive, but here future indicative), deponent\n",
            "- **Translation:**  \n",
            "  - \"Will you abuse\"\n",
            "- **Etymology:**  \n",
            "  - From Latin *ab* (\"from, away\") + *utor* (\"to use\"); literally \"to use up, abuse, misuse\"\n",
            "\n",
            "#### b. **furor**\n",
            "- **Grammatical Properties:**  \n",
            "  - Noun, masculine, nominative singular, 3rd declension\n",
            "- **Translation:**  \n",
            "  - \"madness\", \"fury\"\n",
            "- **Etymology:**  \n",
            "  - From Latin *furere* (\"to rage, be mad\"); related to *furia* (\"fury\"), and ultimately from Proto-Indo-European *bʰer-* (\"to carry, bear children, give birth, bring forth\")\n",
            "\n",
            "---\n",
            "\n",
            "### 2. **Explanation**\n",
            "\n",
            "The overall sentiment is **negative** because the speaker (Cicero) is expressing frustration and alarm at Catiline's actions, accusing him of abusing their patience and being driven by madness.\n",
            "\n",
            "- **abutere** (\"will you abuse\") conveys a strong sense of wrongdoing and exasperation.\n",
            "- **furor** (\"madness\") is a highly negative term, suggesting irrational and dangerous behavior.\n",
            "\n",
            "---\n",
            "\n",
            "**Summary Table:**\n",
            "\n",
            "| Word      | Grammatical Properties                  | English Translation | Etymology                                      |\n",
            "|-----------|----------------------------------------|--------------------|------------------------------------------------|\n",
            "| abutere   | Verb, 2nd sg, future ind., deponent    | will you abuse     | ab- (\"from\") + utor (\"to use\")                |\n",
            "| furor     | Noun, masc., nom. sg., 3rd declension\n",
            "--------------------------------------------------\n",
            "\n",
            "Querying gpt-4.1-nano...\n",
            "\n",
            "MODEL: gpt-4.1-nano\n",
            "RESPONSE:\n",
            "The sentiment of the Latin sentence is **negative**.\n",
            "\n",
            "**Reasoning:**  \n",
            "The sentence expresses frustration and reproach towards Catiline, criticizing his ongoing reckless behavior and the suffering it causes. Words like \"abutere\" (abuse, misuse) and \"furor\" (fury, madness) contribute strongly to this negative tone.\n",
            "\n",
            "---\n",
            "\n",
            "### Key words contributing to sentiment:\n",
            "\n",
            "1. **abutere**  \n",
            "   - **Grammatical properties:** Verb, 2nd person singular, present indicative active, from the verb *abuti* (to misuse, to abuse).  \n",
            "   - **English translation:** \"to abuse\" or \"to misuse.\"  \n",
            "   - **Etymology:** From Latin *abuti*, composed of *ab-* (away, from) + *uti* (to use). The root *uti* is related to the Latin *usus* (use), from Proto-Indo-European *h₁éǵʰs* (to be). The prefix *ab-* indicates removal or excess, emphasizing misuse or overreach.\n",
            "\n",
            "2. **furor**  \n",
            "   - **Grammatical properties:** Noun, nominative singular, masculine.  \n",
            "   - **English translation:** \"fury\" or \"madness.\"  \n",
            "   - **Etymology:** From Latin *furor*, meaning \"fury, rage,\" related to *furere* (to rage). It is derived from Proto-Indo-European *bʰréh₂t-* (to swell, burst), indicating intense emotion or agitation.\n",
            "\n",
            "---\n",
            "\n",
            "### Summary:\n",
            "- **Sentiment:** Negative  \n",
            "- **Contributing words:** *abutere* (verb), *furor* (noun)  \n",
            "- **Their properties and translations:**  \n",
            "  - *abutere*: \"to misuse\" (verb)  \n",
            "  - *furor*: \"fury\" (noun)\n",
            "--------------------------------------------------\n"
          ]
        }
      ]
    },
    {
      "cell_type": "markdown",
      "source": [
        "Analyze the results:\n",
        "\n",
        "1. Compare the outputs: Look for differences in detail, accuracy, format adherence, and tone\n",
        "2. Evaluate which components had the biggest impact on quality\n",
        "3. Note whether different models respond differently to the same prompt components\n",
        "\n",
        "Once you're done design a prompt structure that would work best for your specific research needs.\n"
      ],
      "metadata": {
        "id": "4JghE2pz4X2A"
      }
    },
    {
      "cell_type": "code",
      "source": [
        "# YOUR TURN: Design the prompt structure and test it\n",
        "\n",
        "custom_prompt = \"YOUR CUSTOM PROMPT HERE\"\n",
        "custom_system = \"YOUR CUSTOM SYSTEM PROMPT HERE\"\n",
        "\n",
        "print(f\"Prompt: {custom_prompt}\")\n",
        "print(f\"System prompt: {custom_system}\")\n",
        "\n",
        "custom_result = call_llm_and_get_answer(MODELS, prompt=custom_prompt, system_prompt=custom_system)"
      ],
      "metadata": {
        "id": "ZjNU6jaU3pyR",
        "colab": {
          "base_uri": "https://localhost:8080/"
        },
        "outputId": "89998d9f-7994-4ed5-add7-d0cfd7046d25"
      },
      "execution_count": null,
      "outputs": [
        {
          "output_type": "stream",
          "name": "stdout",
          "text": [
            "Prompt: YOUR CUSTOM PROMPT HERE\n",
            "System prompt: YOUR CUSTOM SYSTEM PROMPT HERE\n",
            "PROMPT:\n",
            "YOUR CUSTOM PROMPT HERE\n",
            "\n",
            "SYSTEM:\n",
            "YOUR CUSTOM SYSTEM PROMPT HERE\n",
            "\n",
            "--------------------------------------------------\n",
            "\n",
            "Querying gpt-4.1...\n",
            "\n",
            "MODEL: gpt-4.1\n",
            "RESPONSE:\n",
            "Hello! How can I assist you today?\n",
            "--------------------------------------------------\n",
            "\n",
            "Querying gpt-4.1-nano...\n",
            "\n",
            "MODEL: gpt-4.1-nano\n",
            "RESPONSE:\n",
            "Hello! How can I assist you today?\n",
            "--------------------------------------------------\n"
          ]
        }
      ]
    },
    {
      "cell_type": "markdown",
      "source": [
        "### Meta-Prompting\n",
        "LLMs have knowledge about their own capabilities and limitations. We can ask them to design effective prompts for specific tasks.\n",
        "\n",
        "This will help:\n",
        "1. Discover useful prompt structures\n",
        "2. Save time\n",
        "3. Generate prompt templates for recurrent tasks"
      ],
      "metadata": {
        "id": "DxixueIT5gvL"
      }
    },
    {
      "cell_type": "code",
      "source": [
        "my_task = \"\"\"\n",
        "I need to YOUR INPUT HERE. The sentences I'm analyzing come from YOUR INPUT HERE.\n",
        "\"\"\"\n",
        "\n",
        "my_task = \"\"\"\n",
        "I need to classify the sentiment of Latin sentences, identify the top 2 words contributing\n",
        "to this sentiment, define their grammatical properties, provide English translations,\n",
        "and give etymology information. The sentences I'm analyzing come from Cicero's\n",
        "orations against Catiline.\n",
        "\"\"\"\n",
        "\n",
        "meta_prompt = f\"\"\"\n",
        "You are an expert in prompt engineering who specializes in optimizing prompts for linguistic analysis.\n",
        "\n",
        "I need your help designing the most effective prompt structure for the following task:\n",
        "\n",
        "{my_task}\n",
        "\n",
        "Please design:\n",
        "1. A system prompt that establishes the right expertise and context\n",
        "2. A user prompt with all necessary components (instruction, format, etc.)\n",
        "\n",
        "For each component you include, briefly explain why it's important for this specific task.\n",
        "After providing your recommended prompt structure, explain which components you believe\n",
        "will have the biggest impact on result quality and why.\n",
        "\"\"\"\n",
        "\n",
        "print(\"\\nMETA-PROMPT:\")\n",
        "print(meta_prompt)\n",
        "print(\"\\nGetting prompt recommendations from the model...\")\n",
        "\n",
        "meta_result = call_llm_and_get_answer(models=MODELS, prompt=meta_prompt, system_prompt=\"\")"
      ],
      "metadata": {
        "colab": {
          "base_uri": "https://localhost:8080/"
        },
        "id": "ZuVgL0P-6GGb",
        "outputId": "ef352a8a-8da8-439b-81f3-61e54009b154"
      },
      "execution_count": 9,
      "outputs": [
        {
          "output_type": "stream",
          "name": "stdout",
          "text": [
            "\n",
            "META-PROMPT:\n",
            "\n",
            "You are an expert in prompt engineering who specializes in optimizing prompts for linguistic analysis.\n",
            "\n",
            "I need your help designing the most effective prompt structure for the following task:\n",
            "\n",
            "\n",
            "I need to classify the sentiment of Latin sentences, identify the top 2 words contributing\n",
            "to this sentiment, define their grammatical properties, provide English translations,\n",
            "and give etymology information. The sentences I'm analyzing come from Cicero's\n",
            "orations against Catiline.\n",
            "\n",
            "\n",
            "Please design:\n",
            "1. A system prompt that establishes the right expertise and context\n",
            "2. A user prompt with all necessary components (instruction, format, etc.)\n",
            "\n",
            "For each component you include, briefly explain why it's important for this specific task.\n",
            "After providing your recommended prompt structure, explain which components you believe\n",
            "will have the biggest impact on result quality and why.\n",
            "\n",
            "\n",
            "Getting prompt recommendations from the model...\n",
            "PROMPT:\n",
            "\n",
            "You are an expert in prompt engineering who specializes in optimizing prompts for linguistic analysis.\n",
            "\n",
            "I need your help designing the most effective prompt structure for the following task:\n",
            "\n",
            "\n",
            "I need to classify the sentiment of Latin sentences, identify the top 2 words contributing\n",
            "to this sentiment, define their grammatical properties, provide English translations,\n",
            "and give etymology information. The sentences I'm analyzing come from Cicero's\n",
            "orations against Catiline.\n",
            "\n",
            "\n",
            "Please design:\n",
            "1. A system prompt that establishes the right expertise and context\n",
            "2. A user prompt with all necessary components (instruction, format, etc.)\n",
            "\n",
            "For each component you include, briefly explain why it's important for this specific task.\n",
            "After providing your recommended prompt structure, explain which components you believe\n",
            "will have the biggest impact on result quality and why.\n",
            "\n",
            "\n",
            "SYSTEM:\n",
            "\n",
            "\n",
            "--------------------------------------------------\n",
            "\n",
            "Querying gpt-4.1...\n",
            "\n",
            "MODEL: gpt-4.1\n",
            "RESPONSE:\n",
            "Certainly! Here’s a prompt structure tailored for your task, with explanations for each component.\n",
            "\n",
            "---\n",
            "\n",
            "## 1. **System Prompt**\n",
            "\n",
            "**Prompt:**\n",
            ">You are a highly skilled linguist specializing in Latin philology, historical linguistics, and sentiment analysis. You have expert knowledge of Cicero’s orations against Catiline, including their historical context, rhetorical strategies, and vocabulary. You are also proficient in grammatical analysis, English translation, and etymology of Latin words. When analyzing Latin sentences, you provide precise, scholarly, and well-structured responses.\n",
            "\n",
            "**Explanation:**\n",
            "- **Expertise specification:** Ensures the model adopts the persona of a Latin specialist, increasing the likelihood of accurate, context-aware analysis.\n",
            "- **Contextual grounding:** References Cicero’s orations, guiding the model to consider rhetorical and historical nuances.\n",
            "- **Task focus:** Emphasizes skills in sentiment analysis, grammar, translation, and etymology, aligning with your requirements.\n",
            "- **Quality expectation:** Requests precise and scholarly responses, raising the standard of output.\n",
            "\n",
            "---\n",
            "\n",
            "## 2. **User Prompt**\n",
            "\n",
            "**Prompt:**\n",
            ">Analyze the following Latin sentence from Cicero’s orations against Catiline:\n",
            ">\n",
            ">**Sentence:** [Insert Latin sentence here]\n",
            ">\n",
            ">For this sentence, please:\n",
            ">\n",
            ">1. **Classify the overall sentiment** (e.g., positive, negative, neutral) and briefly justify your classification.\n",
            ">2. **Identify the top 2 words** that most strongly contribute to the sentiment. For each word:\n",
            ">    - Provide the word in its original form.\n",
            ">    - Specify its grammatical properties (part of speech, case/gender/number/tense/etc. as applicable).\n",
            ">    - Give an accurate English translation.\n",
            ">    - Provide a brief etymology (origin and root meaning).\n",
            ">\n",
            ">**Format your response as follows:**\n",
            ">\n",
            ">**Sentiment:** [Positive/Negative/Neutral]  \n",
            ">**Justification:** [\n",
            "--------------------------------------------------\n",
            "\n",
            "Querying gpt-4.1-nano...\n",
            "\n",
            "MODEL: gpt-4.1-nano\n",
            "RESPONSE:\n",
            "Certainly! Here's a carefully designed prompt structure tailored for your linguistic analysis task, along with explanations for each component and insights into their impact.\n",
            "\n",
            "---\n",
            "\n",
            "### 1. System Prompt (Establishing Expertise and Context)\n",
            "\n",
            "**Prompt:**\n",
            "\n",
            "*You are an expert classical Latin linguist and philologist specializing in Latin rhetoric, syntax, and etymology. Your task is to analyze Latin sentences from Cicero's orations against Catiline, focusing on sentiment analysis, key contributing words, grammatical properties, translations, and etymology. Provide precise, scholarly, and detailed responses suitable for academic research.*\n",
            "\n",
            "**Explanation:**\n",
            "\n",
            "- **Expertise & Context:** Establishes authority and ensures responses are accurate, scholarly, and contextually relevant.\n",
            "- **Focus on Latin & Cicero:** Clarifies the domain, guiding the model to prioritize classical Latin nuances.\n",
            "- **Task Scope:** Clearly states the analysis components, setting expectations for detailed, structured output.\n",
            "\n",
            "---\n",
            "\n",
            "### 2. User Prompt (Detailed Instructions & Format)\n",
            "\n",
            "**Prompt:**\n",
            "\n",
            "*Analyze the following Latin sentence from Cicero's orations against Catiline. For each sentence, provide the following components in the specified format:*\n",
            "\n",
            "**Instructions:**\n",
            "\n",
            "- **Sentiment Classification:** Determine whether the sentence's overall sentiment is positive, negative, or neutral.\n",
            "- **Top 2 Contributing Words:** Identify the two words that most strongly influence this sentiment.\n",
            "- **Grammatical Properties:** For each of these words, specify their part of speech, grammatical case, number, gender, tense, mood, voice, and any other relevant grammatical features.\n",
            "- **English Translation:** Provide an accurate, scholarly translation of the sentence.\n",
            "- **Etymology:** Offer a brief etymological explanation for each of the two words, including their Latin roots and any relevant historical development.\n",
            "\n",
            "**Format:**\n",
            "\n",
            "```plaintext\n",
            "Sentence:\n",
            "[Insert Latin sentence here]\n",
            "\n",
            "Sentiment: [positive/negative/neutral]\n",
            "\n",
            "Top 2 Words:\n",
            "1. [Word 1\n",
            "--------------------------------------------------\n"
          ]
        }
      ]
    },
    {
      "cell_type": "markdown",
      "source": [
        "Let's now test the LLM-designed prompt. Analyze the response above and copy the prompt and system prompt to the respective variables. Don't forget about providing the sentence to analyse!"
      ],
      "metadata": {
        "id": "ZTLFSSq47ZoA"
      }
    },
    {
      "cell_type": "code",
      "source": [
        "# YOUR TURN\n",
        "\n",
        "llm_system_prompt = \"\"\"You are an expert in Latin linguistics, classical philology, and sentiment analysis, specializing in the works of Cicero. You have advanced knowledge of Latin grammar, vocabulary, and etymology, as well as the ability to analyze sentiment in historical texts. You provide detailed, accurate, and scholarly responses, citing grammatical properties and etymological origins with precision.\"\"\"\n",
        "\n",
        "llm_user_prompt = \"\"\"\n",
        "Analyze the following Latin sentence from Cicero’s orations against Catiline:\n",
        "\n",
        "Sentence: quo usque tandem abutere, Catilina, patientia nostra?\n",
        "\n",
        "For this sentence, please:\n",
        "\n",
        "1. **Classify the overall sentiment** (e.g., positive, negative, neutral) and briefly justify your classification.\n",
        "2. **Identify the top 2 words** that most strongly contribute to this sentiment.\n",
        "3. For each of these 2 words, provide:\n",
        "    - The word in its original form as it appears in the sentence.\n",
        "    - Its lemma (dictionary form).\n",
        "    - Part of speech and grammatical properties (e.g., case, number, gender, tense, mood, voice, etc.).\n",
        "    - An English translation in this context.\n",
        "    - A brief etymology (origin and historical development).\n",
        "\n",
        "**Format your answer as follows:**\n",
        "\n",
        "**Sentiment:** [Positive/Negative/Neutral]\n",
        "**Justification:**\n",
        "\"\"\"\n",
        "\n",
        "print(f\"LLM-designed system prompt: {llm_system_prompt}\")\n",
        "print(f\"LLM-designed user prompt: {llm_user_prompt}\")\n",
        "\n",
        "# Test the LLM-designed prompt\n",
        "llm_designed_result = call_llm_and_get_answer(MODELS, prompt=llm_user_prompt, system_prompt=llm_system_prompt)"
      ],
      "metadata": {
        "colab": {
          "base_uri": "https://localhost:8080/"
        },
        "id": "IBPRPgKs8Uby",
        "outputId": "4202ac12-0f26-44c7-867d-dbf074544930"
      },
      "execution_count": 10,
      "outputs": [
        {
          "output_type": "stream",
          "name": "stdout",
          "text": [
            "LLM-designed system prompt: You are an expert in Latin linguistics, classical philology, and sentiment analysis, specializing in the works of Cicero. You have advanced knowledge of Latin grammar, vocabulary, and etymology, as well as the ability to analyze sentiment in historical texts. You provide detailed, accurate, and scholarly responses, citing grammatical properties and etymological origins with precision.\n",
            "LLM-designed user prompt: \n",
            "Analyze the following Latin sentence from Cicero’s orations against Catiline:\n",
            "\n",
            "Sentence: quo usque tandem abutere, Catilina, patientia nostra?\n",
            "\n",
            "For this sentence, please:\n",
            "\n",
            "1. **Classify the overall sentiment** (e.g., positive, negative, neutral) and briefly justify your classification.\n",
            "2. **Identify the top 2 words** that most strongly contribute to this sentiment.\n",
            "3. For each of these 2 words, provide:\n",
            "    - The word in its original form as it appears in the sentence.\n",
            "    - Its lemma (dictionary form).\n",
            "    - Part of speech and grammatical properties (e.g., case, number, gender, tense, mood, voice, etc.).\n",
            "    - An English translation in this context.\n",
            "    - A brief etymology (origin and historical development).\n",
            "\n",
            "**Format your answer as follows:**\n",
            "\n",
            "**Sentiment:** [Positive/Negative/Neutral]\n",
            "**Justification:**\n",
            "\n",
            "PROMPT:\n",
            "\n",
            "Analyze the following Latin sentence from Cicero’s orations against Catiline:\n",
            "\n",
            "Sentence: quo usque tandem abutere, Catilina, patientia nostra?\n",
            "\n",
            "For this sentence, please:\n",
            "\n",
            "1. **Classify the overall sentiment** (e.g., positive, negative, neutral) and briefly justify your classification.\n",
            "2. **Identify the top 2 words** that most strongly contribute to this sentiment.\n",
            "3. For each of these 2 words, provide:\n",
            "    - The word in its original form as it appears in the sentence.\n",
            "    - Its lemma (dictionary form).\n",
            "    - Part of speech and grammatical properties (e.g., case, number, gender, tense, mood, voice, etc.).\n",
            "    - An English translation in this context.\n",
            "    - A brief etymology (origin and historical development).\n",
            "\n",
            "**Format your answer as follows:**\n",
            "\n",
            "**Sentiment:** [Positive/Negative/Neutral]\n",
            "**Justification:**\n",
            "\n",
            "\n",
            "SYSTEM:\n",
            "You are an expert in Latin linguistics, classical philology, and sentiment analysis, specializing in the works of Cicero. You have advanced knowledge of Latin grammar, vocabulary, and etymology, as well as the ability to analyze sentiment in historical texts. You provide detailed, accurate, and scholarly responses, citing grammatical properties and etymological origins with precision.\n",
            "\n",
            "--------------------------------------------------\n",
            "\n",
            "Querying gpt-4.1...\n",
            "\n",
            "MODEL: gpt-4.1\n",
            "RESPONSE:\n",
            "**Sentiment:** Negative  \n",
            "**Justification:**  \n",
            "The sentence expresses exasperation and reproach. Cicero is accusing Catiline of abusing (\"abutere\") the patience (\"patientia\") of the Senate and the Roman people. The rhetorical question, \"How long, Catiline, will you abuse our patience?\" conveys frustration, indignation, and condemnation, all of which are negative sentiments.\n",
            "\n",
            "---\n",
            "\n",
            "**Top 2 Words Contributing to Sentiment:**\n",
            "\n",
            "1. **abutere**\n",
            "   - **Original form:** abutere\n",
            "   - **Lemma:** abutor\n",
            "   - **Part of speech and grammatical properties:**  \n",
            "     - Verb  \n",
            "     - 2nd person singular, future indicative active (with potential subjunctive nuance due to deliberative question)  \n",
            "     - Deponent (passive in form, active in meaning)\n",
            "   - **English translation:** will you abuse / will you misuse\n",
            "   - **Etymology:**  \n",
            "     - From the prefix *ab-* (\"away, off\") + *utor* (\"to use\").  \n",
            "     - *Abutor* originally meant \"to use up, consume,\" but in context, it developed the sense of \"to misuse, abuse\"—especially in a moral or social sense.\n",
            "\n",
            "2. **patientia**\n",
            "   - **Original form:** patientia\n",
            "   - **Lemma:** patientia\n",
            "   - **Part of speech and grammatical properties:**  \n",
            "     - Noun  \n",
            "     - Feminine, singular, ablative (object of the deponent verb *abutor*, which takes the ablative)\n",
            "   - **English translation:** patience\n",
            "   - **Etymology:**  \n",
            "     - From *patiens* (\"suffering, enduring\"), present participle of *patior* (\"to suffer, endure\") + the abstract noun suffix *-ia*.  \n",
            "     - The word thus denotes the quality of enduring or suffering, i.e., \"patience\" or \"forbearance.\"\n",
            "\n",
            "---\n",
            "\n",
            "\n",
            "--------------------------------------------------\n",
            "\n",
            "Querying gpt-4.1-nano...\n",
            "\n",
            "MODEL: gpt-4.1-nano\n",
            "RESPONSE:\n",
            "**Sentiment:** Negative\n",
            "\n",
            "**Justification:**  \n",
            "The sentence is a rhetorical question expressing frustration and moral outrage directed at Catiline. Cicero is condemning his persistent abuse of patience, implying a negative judgment of his conduct. The tone is accusatory and confrontational, characteristic of a negative sentiment.\n",
            "\n",
            "---\n",
            "\n",
            "**Top 2 words contributing to this sentiment:**\n",
            "\n",
            "### 1. **quo**\n",
            "- **Lemma:** quo\n",
            "- **Part of speech and grammatical properties:** Adverb (interrogative or relative in certain contexts); in this sentence, it functions as an interrogative adverb meaning \"to what extent\" or \"how long.\"\n",
            "- **English translation:** \"how long\" or \"to what extent\"\n",
            "- **Etymology:**  \n",
            "  Derived from Latin *quō*, which is the ablative singular of *quī* (\"who,\" \"which\"). The adverb *quo* originally stems from the Proto-Indo-European root *kwo-* meaning \"who\" or \"what,\" evolving into Latin as a question word and adverb of degree or manner.\n",
            "\n",
            "---\n",
            "\n",
            "### 2. **abutere**\n",
            "- **Lemma:** abutere\n",
            "- **Part of speech and grammatical properties:** Verb, future indicative active, second person singular; from *abūtō* (to abuse, misuse, or overreach).\n",
            "- **English translation:** \"you will abuse\" or \"you will overreach\" (here, in a rhetorical sense, \"you will continue to abuse\")\n",
            "- **Etymology:**  \n",
            "  From Latin *abūtō*, composed of the prefix *ab-* (\"away from,\" \"completely\") and *ūsus* (\"use,\" \"experience\"). The verb originally conveyed the idea of \"to use up\" or \"to exhaust,\" but in later Latin, it acquired the sense of \"to misuse\" or \"to overreach,\" especially in moral or ethical contexts.\n",
            "\n",
            "---\n",
            "\n",
            "**Summary:**  \n",
            "The sentence \"quo usque tandem\n",
            "--------------------------------------------------\n"
          ]
        }
      ]
    },
    {
      "cell_type": "code",
      "source": [
        "# YOUR TURN\n",
        "\n",
        "llm_system_prompt = \"\"\"HERE GOES THE SYSTEM PROMPT SUGGESTED ABOVE\"\"\"\n",
        "\n",
        "llm_user_prompt = \"\"\"HERE GOES THE USR PROMPT SUGGESTED ABOVE\"\"\"\n",
        "\n",
        "print(f\"LLM-designed system prompt: {llm_system_prompt}\")\n",
        "print(f\"LLM-designed user prompt: {llm_user_prompt}\")\n",
        "\n",
        "# Test the LLM-designed prompt\n",
        "llm_designed_result = call_llm_and_get_answer(MODELS, prompt=llm_user_prompt, system_prompt=llm_system_prompt)"
      ],
      "metadata": {
        "id": "y-stYu-T7Yun",
        "colab": {
          "base_uri": "https://localhost:8080/"
        },
        "outputId": "71beeb99-3ceb-43ab-cc27-69a6f5ea07d1"
      },
      "execution_count": 11,
      "outputs": [
        {
          "output_type": "stream",
          "name": "stdout",
          "text": [
            "LLM-designed system prompt: HERE GOES THE SYSTEM PROMPT SUGGESTED ABOVE\n",
            "LLM-designed user prompt: HERE GOES THE USR PROMPT SUGGESTED ABOVE\n",
            "PROMPT:\n",
            "HERE GOES THE USR PROMPT SUGGESTED ABOVE\n",
            "\n",
            "SYSTEM:\n",
            "HERE GOES THE SYSTEM PROMPT SUGGESTED ABOVE\n",
            "\n",
            "--------------------------------------------------\n",
            "\n",
            "Querying gpt-4.1...\n",
            "\n",
            "MODEL: gpt-4.1\n",
            "RESPONSE:\n",
            "Hello! It looks like you entered placeholder text (\"HERE GOES THE USR PROMPT SUGGESTED ABOVE\"). How can I assist you today? If you have a specific question or task, please let me know!\n",
            "--------------------------------------------------\n",
            "\n",
            "Querying gpt-4.1-nano...\n",
            "\n",
            "MODEL: gpt-4.1-nano\n",
            "RESPONSE:\n",
            "Hello! How can I assist you today?\n",
            "--------------------------------------------------\n"
          ]
        }
      ]
    },
    {
      "cell_type": "markdown",
      "source": [
        "How does the LLM-designed prompt compare to the one you have just created? What insights about prompt engineering did you gain from this exercise? How the response impacts your understanding of the topic?\n"
      ],
      "metadata": {
        "id": "ytIZ6bUw79fi"
      }
    },
    {
      "cell_type": "markdown",
      "source": [
        "# Exercise. Learning by example"
      ],
      "metadata": {
        "id": "kHkkS85W8TRI"
      }
    },
    {
      "cell_type": "markdown",
      "source": [
        "Let's explore how providing examples affects an LLM's ability to analyze text.\n",
        "We'll use a famous passage from Cicero's First Catilinarian Oration."
      ],
      "metadata": {
        "id": "uss3t1d2BlXb"
      }
    },
    {
      "cell_type": "code",
      "source": [
        "# First sentences of Cicero's First Catilinarian Oration\n",
        "cicero_la = \"\"\"\n",
        "quo usque tandem abutere, Catilina, patientia nostra?\n",
        "quam diu etiam furor iste tuus nos eludet?\n",
        "patere tua consilia non sentis, constrictam iam horum omnium scientia teneri coniurationem tuam non vides?\n",
        "O tempora, o mores!\n",
        "senatus haec intellegit, consul videt; hic tamen vivit.\n",
        "vivit? immo vero etiam in senatum venit, fit publici consili particeps, notat et designat oculis ad caedem unum quemque nostrum.\n",
        "\"\"\"\n",
        "cicero_en = \"\"\"\n",
        "When, O Catiline, do you mean to cease abusing our patience?\n",
        "How long is that madness of yours still to mock us?\n",
        "Do you not see that your conspiracy is already arrested and rendered powerless by the knowledge which every one here possesses of it?\n",
        "Shame on the age and on its principles!\n",
        "The senate is aware of these things; the consul sees them; and yet this man lives.\n",
        "Lives! aye, he comes even into the senate. He takes a part in the public deliberations; he is watching and marking down and checking off for slaughter every individual among us.\n",
        "\"\"\""
      ],
      "metadata": {
        "id": "Ycpvqm8hBfpt"
      },
      "execution_count": 12,
      "outputs": []
    },
    {
      "cell_type": "markdown",
      "source": [
        "## Zero-shot approach\n"
      ],
      "metadata": {
        "id": "wfvTOOH7Dadl"
      }
    },
    {
      "cell_type": "code",
      "source": [
        "cicero_la_sentence = \"quo usque tandem abutere, Catilina, patientia nostra?\"\n",
        "cicero_en_sentence = \"When, O Catiline, do you mean to cease abusing our patience?\"\n",
        "\n",
        "zero_shot_prompt = f\"\"\"\n",
        "Analyze this Latin sentence:\n",
        "\"{cicero_la_sentence}\"\n",
        "\n",
        "Provide:\n",
        "1. The type of rhetorical device used\n",
        "2. The sentiment of the sentence (positive, negative, or neutral)\n",
        "3. The source of evaluation in the sentence (who/what is being evaluated, and by whom)\n",
        "\"\"\"\n",
        "\n",
        "print(\"Zero-shot prompt:\")\n",
        "print(zero_shot_prompt)\n",
        "\n",
        "zero_shot_results = call_llm_and_get_answer(MODELS, prompt=zero_shot_prompt)"
      ],
      "metadata": {
        "colab": {
          "base_uri": "https://localhost:8080/"
        },
        "id": "NBxvb5YSDQ-z",
        "outputId": "0ddfd00e-f6c1-4ee7-ebbd-0c336e4034b7"
      },
      "execution_count": 13,
      "outputs": [
        {
          "output_type": "stream",
          "name": "stdout",
          "text": [
            "Zero-shot prompt:\n",
            "\n",
            "Analyze this Latin sentence:\n",
            "\"quo usque tandem abutere, Catilina, patientia nostra?\"\n",
            "\n",
            "Provide:\n",
            "1. The type of rhetorical device used\n",
            "2. The sentiment of the sentence (positive, negative, or neutral)\n",
            "3. The source of evaluation in the sentence (who/what is being evaluated, and by whom)\n",
            "\n",
            "PROMPT:\n",
            "\n",
            "Analyze this Latin sentence:\n",
            "\"quo usque tandem abutere, Catilina, patientia nostra?\"\n",
            "\n",
            "Provide:\n",
            "1. The type of rhetorical device used\n",
            "2. The sentiment of the sentence (positive, negative, or neutral)\n",
            "3. The source of evaluation in the sentence (who/what is being evaluated, and by whom)\n",
            "\n",
            "\n",
            "SYSTEM:\n",
            "You are a helpful assistant.\n",
            "\n",
            "--------------------------------------------------\n",
            "\n",
            "Querying gpt-4.1...\n",
            "\n",
            "MODEL: gpt-4.1\n",
            "RESPONSE:\n",
            "Certainly! Here is the analysis of the Latin sentence:\n",
            "\n",
            "\"quo usque tandem abutere, Catilina, patientia nostra?\"\n",
            "\n",
            "1. The type of rhetorical device used  \n",
            "**Rhetorical Question**: The sentence is a rhetorical question, asked not to elicit an answer but to express indignation and accusation.\n",
            "\n",
            "2. The sentiment of the sentence  \n",
            "**Negative**: The sentiment is negative. The speaker is expressing frustration and reproach toward Catiline for abusing their patience.\n",
            "\n",
            "3. The source of evaluation in the sentence  \n",
            "- **Who/what is being evaluated?** Catiline (Catilina) is being evaluated.\n",
            "- **By whom?** The speaker (Cicero, in the original context) is evaluating Catiline.\n",
            "- **What is being evaluated?** Catiline's abuse of \"our patience\" (patientia nostra), i.e., the patience of the speaker and his associates.\n",
            "\n",
            "**Summary Table:**\n",
            "\n",
            "| Aspect                     | Answer                                                                 |\n",
            "|----------------------------|------------------------------------------------------------------------|\n",
            "| Rhetorical device          | Rhetorical question                                                    |\n",
            "| Sentiment                  | Negative                                                               |\n",
            "| Source of evaluation       | Catiline is evaluated by the speaker (Cicero) for abusing their patience|\n",
            "--------------------------------------------------\n",
            "\n",
            "Querying gpt-4.1-nano...\n",
            "\n",
            "MODEL: gpt-4.1-nano\n",
            "RESPONSE:\n",
            "Certainly! Let's analyze the Latin sentence:\n",
            "\n",
            "**Sentence:**  \n",
            "\"Quo usque tandem abutere, Catilina, patientia nostra?\"\n",
            "\n",
            "---\n",
            "\n",
            "### 1. Type of rhetorical device used:\n",
            "\n",
            "**Answer:** *Apostrophe*\n",
            "\n",
            "**Explanation:**  \n",
            "The speaker directly addresses Catilina (Cataline), a person who is not present, as if he were there to be spoken to. This direct invocation or interruption of the normal flow of speech to address someone absent or imaginary is characteristic of an apostrophe. Additionally, the sentence is a famous example of *rhetorical question*, as Cicero is asking a question not expecting an answer but emphasizing his point.\n",
            "\n",
            "---\n",
            "\n",
            "### 2. The sentiment of the sentence:\n",
            "\n",
            "**Answer:** *Negative*\n",
            "\n",
            "**Explanation:**  \n",
            "The sentence expresses frustration and condemnation. Cicero is accusing Catilina of abusing the patience of the Roman people, implying ongoing wrongdoing and a sense of outrage.\n",
            "\n",
            "---\n",
            "\n",
            "### 3. The source of evaluation in the sentence:\n",
            "\n",
            "**Answer:**  \n",
            "- **Who/what is being evaluated:** *Patience of the speaker (the Roman people or Cicero himself)*  \n",
            "- **By whom:** *Catilina (the person being addressed)*\n",
            "\n",
            "**Explanation:**  \n",
            "Cicero is evaluating the patience of the Roman people (or himself as the representative of that patience). He is criticizing Catilina for exceeding the limits of tolerated behavior, implying that Catilina is the one responsible for testing or abusing that patience.\n",
            "\n",
            "---\n",
            "\n",
            "**Summary:**\n",
            "\n",
            "| Aspect | Details |\n",
            "|---------|---------|\n",
            "| Rhetorical device | Apostrophe (direct address) and rhetorical question |\n",
            "| Sentiment | Negative |\n",
            "| Source of evaluation | The patience of the Roman people (or Cicero himself), evaluated by Catilina's actions |\n",
            "--------------------------------------------------\n"
          ]
        }
      ]
    },
    {
      "cell_type": "markdown",
      "source": [
        "## Few-shot approach"
      ],
      "metadata": {
        "id": "2ett0Db6FCMY"
      }
    },
    {
      "cell_type": "markdown",
      "source": [
        "Let's now provide the model with an example that demonstrates our expected format and analysis style. This should help align the model's output with our specific needs by showing rather than telling what we want. The model will implicitly infer patterns from our example and apply similar reasoning to the new input."
      ],
      "metadata": {
        "id": "0zRc0QfvFJeh"
      }
    },
    {
      "cell_type": "code",
      "source": [
        "example_sentence_la = \"O tempora, o mores!\"\n",
        "example_sentence_en = \"Shame on the age and on its principles!\"\n",
        "\n",
        "# Example\n",
        "example = f\"\"\"\n",
        "I'll demonstrate the analysis with an example:\n",
        "\n",
        "Latin sentence: {example_sentence_la}\n",
        "Rhetorical device: anaphora\n",
        "Sentiment: negative\n",
        "Source of evaluation: general opinion on contemporary culture\n",
        "\"\"\"\n",
        "\n",
        "few_shot_prompt = f\"\"\"\n",
        "Identify the type of rhetorical device used in this Latin sentence and explain its effect:\n",
        "\n",
        "{cicero_la_sentence}\n",
        "\n",
        "{example}\n",
        "\"\"\""
      ],
      "metadata": {
        "id": "IhkuloCBE__e"
      },
      "execution_count": 14,
      "outputs": []
    },
    {
      "cell_type": "code",
      "source": [
        "print(\"Few-shot prompt:\")\n",
        "print(few_shot_prompt)\n",
        "\n",
        "few_shot_results = call_llm_and_get_answer(MODELS, prompt=few_shot_prompt, system_prompt=\"You're a Latin specialist.\")"
      ],
      "metadata": {
        "colab": {
          "base_uri": "https://localhost:8080/"
        },
        "id": "nzFZVuKMGE1i",
        "outputId": "6d02aaf3-3f6f-4b4c-a12c-19da5874d909"
      },
      "execution_count": 15,
      "outputs": [
        {
          "output_type": "stream",
          "name": "stdout",
          "text": [
            "Few-shot prompt:\n",
            "\n",
            "Identify the type of rhetorical device used in this Latin sentence and explain its effect:\n",
            "\n",
            "quo usque tandem abutere, Catilina, patientia nostra?\n",
            "\n",
            "\n",
            "I'll demonstrate the analysis with an example:\n",
            "\n",
            "Latin sentence: O tempora, o mores!\n",
            "Rhetorical device: anaphora\n",
            "Sentiment: negative\n",
            "Source of evaluation: general opinion on contemporary culture\n",
            "\n",
            "\n",
            "PROMPT:\n",
            "\n",
            "Identify the type of rhetorical device used in this Latin sentence and explain its effect:\n",
            "\n",
            "quo usque tandem abutere, Catilina, patientia nostra?\n",
            "\n",
            "\n",
            "I'll demonstrate the analysis with an example:\n",
            "\n",
            "Latin sentence: O tempora, o mores!\n",
            "Rhetorical device: anaphora\n",
            "Sentiment: negative\n",
            "Source of evaluation: general opinion on contemporary culture\n",
            "\n",
            "\n",
            "\n",
            "SYSTEM:\n",
            "You're a Latin specialist.\n",
            "\n",
            "--------------------------------------------------\n",
            "\n",
            "Querying gpt-4.1...\n",
            "\n",
            "MODEL: gpt-4.1\n",
            "RESPONSE:\n",
            "Latin sentence: quo usque tandem abutere, Catilina, patientia nostra?  \n",
            "Rhetorical device: **apostrophe**  \n",
            "Sentiment: negative  \n",
            "Source of evaluation: Cicero’s condemnation of Catiline’s actions and endurance of the Senate\n",
            "\n",
            "**Explanation:**  \n",
            "The rhetorical device used here is **apostrophe**, which is a direct address to a person (often absent or personified). In this sentence, Cicero directly addresses Catiline, expressing outrage and exasperation at Catiline’s continued abuse of the Senate’s patience. The effect is to dramatize the accusation, focus the audience’s attention on Catiline as the culprit, and heighten the emotional intensity of Cicero’s speech.\n",
            "--------------------------------------------------\n",
            "\n",
            "Querying gpt-4.1-nano...\n",
            "\n",
            "MODEL: gpt-4.1-nano\n",
            "RESPONSE:\n",
            "Latin sentence: *Quo usque tandem abutere, Catilina, patientia nostra?*\n",
            "\n",
            "Rhetorical device: **Apostrophe** (directly addressing someone who is not present or cannot respond)\n",
            "\n",
            "Sentiment: **Accusatory, urgent**\n",
            "\n",
            "Source of evaluation: The speaker (Cicero) is directly confronting Catiline, expressing frustration and moral outrage, emphasizing the urgency of stopping his misconduct.\n",
            "\n",
            "**Explanation:**  \n",
            "This sentence employs apostrophe by directly addressing Catiline with \"Catilina,\" which heightens the emotional intensity and personalizes the plea. The rhetorical question also serves to emphasize the speaker’s exasperation and moral outrage, compelling the audience to reflect on the gravity of the situation.\n",
            "--------------------------------------------------\n"
          ]
        }
      ]
    },
    {
      "cell_type": "markdown",
      "source": [
        "1. How did the responses differ between zero-shot and few-shot approaches?\n",
        "2. Did providing an example change the:\n",
        "   - Technical terminology used?\n",
        "   - Consistency of format?\n",
        "   - Depth of analysis?\n",
        "3. What does this tell us about how examples influence LLM behavior?"
      ],
      "metadata": {
        "id": "Z1JgFNiYGSgo"
      }
    },
    {
      "cell_type": "markdown",
      "source": [
        "# Exercise. Putting Limits"
      ],
      "metadata": {
        "id": "iOoeELGihan_"
      }
    },
    {
      "cell_type": "markdown",
      "source": [
        "As you can see the models often go beyond simply labelling our data and provide contextual explanations we may not wish to obscure our interpretation. Let's now refine our analysis by using a controlled vocabulary and preventing hallucinations. Basically, we'll analyze the same sentence but with stricter constraints on output format and content. **What restrictions should improve the results?**"
      ],
      "metadata": {
        "id": "rCtuTfZkhmeS"
      }
    },
    {
      "cell_type": "code",
      "source": [
        "cicero_sentence_la = \"O tempora, o mores!\"\n",
        "cicero_sentence_en = \"Shame on the age and on its principles!\"\n",
        "\n",
        "# Example\n",
        "\n",
        "constraints = \"\"\"\n",
        "CONSTRAINTS:\n",
        "1. Rhetorical device: Choose EXACTLY ONE from this list: [anaphora, apostrophe, chiasmus, hyperbole, rhetorical question]\n",
        "2. Sentiment: Choose EXACTLY ONE from this list: [strongly negative, mildly negative, neutral, mildly positive, strongly positive]\n",
        "3. Source of evaluation: Choose EXACTLY ONE from this list: [speaker to audience, speaker to subject, subject to speaker, audience to subject]\n",
        "4. DO NOT include any historical information not directly evidenced in the text itself\n",
        "5. DO NOT explain Roman culture or provide background on Cicero or Catiline\n",
        "\"\"\"\n",
        "\n",
        "format = \"\"\"\n",
        "FORMAT YOUR RESPONSE EXACTLY LIKE THIS:\n",
        "Rhetorical device: [your selection]\n",
        "Sentiment: [your selection]\n",
        "Source of evaluation: [your selection]\n",
        "\"\"\"\n",
        "\n",
        "constrained_prompt = f\"\"\"\n",
        "Analyze this Latin sentence using ONLY the specified labels and constraints:\n",
        "\n",
        "Latin sentence: \"{cicero_sentence_la}\"\n",
        "\n",
        "{constraints}\n",
        "\n",
        "{format}\n",
        "\"\"\""
      ],
      "metadata": {
        "id": "hMmQ_1oJichg"
      },
      "execution_count": 16,
      "outputs": []
    },
    {
      "cell_type": "code",
      "source": [
        "print(\"Constrained prompt:\")\n",
        "constrained_results = call_llm_and_get_answer(MODELS, prompt=constrained_prompt, system_prompt=\"You're a Latin linguist\")"
      ],
      "metadata": {
        "colab": {
          "base_uri": "https://localhost:8080/"
        },
        "id": "ehYhUO25jF4u",
        "outputId": "68f0621c-07b9-4224-9bc6-9f3165f11489"
      },
      "execution_count": 17,
      "outputs": [
        {
          "output_type": "stream",
          "name": "stdout",
          "text": [
            "Constrained prompt:\n",
            "PROMPT:\n",
            "\n",
            "Analyze this Latin sentence using ONLY the specified labels and constraints:\n",
            "\n",
            "Latin sentence: \"O tempora, o mores!\"\n",
            "\n",
            "\n",
            "CONSTRAINTS:\n",
            "1. Rhetorical device: Choose EXACTLY ONE from this list: [anaphora, apostrophe, chiasmus, hyperbole, rhetorical question]\n",
            "2. Sentiment: Choose EXACTLY ONE from this list: [strongly negative, mildly negative, neutral, mildly positive, strongly positive]\n",
            "3. Source of evaluation: Choose EXACTLY ONE from this list: [speaker to audience, speaker to subject, subject to speaker, audience to subject]\n",
            "4. DO NOT include any historical information not directly evidenced in the text itself\n",
            "5. DO NOT explain Roman culture or provide background on Cicero or Catiline\n",
            "\n",
            "\n",
            "\n",
            "FORMAT YOUR RESPONSE EXACTLY LIKE THIS:\n",
            "Rhetorical device: [your selection]\n",
            "Sentiment: [your selection]\n",
            "Source of evaluation: [your selection]\n",
            "\n",
            "\n",
            "\n",
            "SYSTEM:\n",
            "You're a Latin linguist\n",
            "\n",
            "--------------------------------------------------\n",
            "\n",
            "Querying gpt-4.1...\n",
            "\n",
            "MODEL: gpt-4.1\n",
            "RESPONSE:\n",
            "Rhetorical device: apostrophe  \n",
            "Sentiment: strongly negative  \n",
            "Source of evaluation: speaker to subject\n",
            "--------------------------------------------------\n",
            "\n",
            "Querying gpt-4.1-nano...\n",
            "\n",
            "MODEL: gpt-4.1-nano\n",
            "RESPONSE:\n",
            "Rhetorical device: apostrophe  \n",
            "Sentiment: strongly negative  \n",
            "Source of evaluation: speaker to audience\n",
            "--------------------------------------------------\n"
          ]
        }
      ]
    },
    {
      "cell_type": "markdown",
      "source": [
        "# Exercise. Explain me like I'm Five"
      ],
      "metadata": {
        "id": "LPJ0z03HWx2v"
      }
    },
    {
      "cell_type": "markdown",
      "source": [
        "Let's now see how \"Chain of Thought\" technique helps in revealing the reasoning process behind the analysis. By building on our previous experiment, we hope to arrive at more convincing interpretation."
      ],
      "metadata": {
        "id": "QBxUOA4kbTwU"
      }
    },
    {
      "cell_type": "code",
      "source": [
        "cot_instruction = \"\"\"\n",
        "For each element (rhetorical device, sentiment, source), think step-by-step:\n",
        "- First, consider all the possible options from the provided list\n",
        "- Next, analyze the linguistic features of the Latin text relevant to this element\n",
        "- Then, explain your reasoning for eliminating incorrect options\n",
        "- Finally, justify your selected option with specific features of the text\n",
        "\"\"\"\n",
        "\n",
        "cot_formatting = \"\"\"\n",
        "FORMAT YOUR RESPONSE LIKE THIS:\n",
        "Rhetorical Device Analysis:\n",
        "[Your step-by-step reasoning about the rhetorical device]\n",
        "\n",
        "Sentiment Analysis:\n",
        "[Your step-by-step reasoning about the sentiment]\n",
        "\n",
        "Source of Evaluation Analysis:\n",
        "[Your step-by-step reasoning about the source]\n",
        "Selected source of evaluation: [your selection]\n",
        "\"\"\"\n",
        "\n",
        "cot_prompt = f\"\"\"\n",
        "Analyze this Latin sentence using ONLY the specified labels and constraints:\n",
        "\n",
        "Latin sentence: \"{cicero_sentence_la}\"\n",
        "\n",
        "{constraints}\n",
        "\n",
        "{format}\n",
        "\n",
        "{cot_instruction}\n",
        "\n",
        "{cot_formatting}\n",
        "\"\"\""
      ],
      "metadata": {
        "id": "BBUaHDtvbn_b"
      },
      "execution_count": 18,
      "outputs": []
    },
    {
      "cell_type": "code",
      "source": [
        "# Selected models\n",
        "MODELS = [\n",
        "    \"gpt-4.1\",      # \"Flagship GPT model for complex tasks\": $2.00 / $8.00\n",
        "    \"gpt-4.1-mini\", # \"Balanced for intelligence, speed, and cost\": $0.40 / $1.60\n",
        "    \"gpt-4.1-nano\"    # \"Fastest, most cost-effective GPT-4.1 model\": $0.40 / $1.60\n",
        "]\n",
        "\n",
        "print(\"Chain-of-thought prompt:\")\n",
        "\n",
        "cot_results = call_llm_and_get_answer(MODELS, prompt=cot_prompt)"
      ],
      "metadata": {
        "colab": {
          "base_uri": "https://localhost:8080/"
        },
        "id": "D3bDZVhPl73m",
        "outputId": "cc1f2788-7932-4970-dc18-d11c4f1f2a33"
      },
      "execution_count": 19,
      "outputs": [
        {
          "output_type": "stream",
          "name": "stdout",
          "text": [
            "Chain-of-thought prompt:\n",
            "PROMPT:\n",
            "\n",
            "Analyze this Latin sentence using ONLY the specified labels and constraints:\n",
            "\n",
            "Latin sentence: \"O tempora, o mores!\"\n",
            "\n",
            "\n",
            "CONSTRAINTS:\n",
            "1. Rhetorical device: Choose EXACTLY ONE from this list: [anaphora, apostrophe, chiasmus, hyperbole, rhetorical question]\n",
            "2. Sentiment: Choose EXACTLY ONE from this list: [strongly negative, mildly negative, neutral, mildly positive, strongly positive]\n",
            "3. Source of evaluation: Choose EXACTLY ONE from this list: [speaker to audience, speaker to subject, subject to speaker, audience to subject]\n",
            "4. DO NOT include any historical information not directly evidenced in the text itself\n",
            "5. DO NOT explain Roman culture or provide background on Cicero or Catiline\n",
            "\n",
            "\n",
            "\n",
            "FORMAT YOUR RESPONSE EXACTLY LIKE THIS:\n",
            "Rhetorical device: [your selection]\n",
            "Sentiment: [your selection]\n",
            "Source of evaluation: [your selection]\n",
            "\n",
            "\n",
            "\n",
            "For each element (rhetorical device, sentiment, source), think step-by-step:\n",
            "- First, consider all the possible options from the provided list\n",
            "- Next, analyze the linguistic features of the Latin text relevant to this element\n",
            "- Then, explain your reasoning for eliminating incorrect options\n",
            "- Finally, justify your selected option with specific features of the text\n",
            "\n",
            "\n",
            "\n",
            "FORMAT YOUR RESPONSE LIKE THIS:\n",
            "Rhetorical Device Analysis:\n",
            "[Your step-by-step reasoning about the rhetorical device]\n",
            "\n",
            "Sentiment Analysis:\n",
            "[Your step-by-step reasoning about the sentiment]\n",
            "\n",
            "Source of Evaluation Analysis:\n",
            "[Your step-by-step reasoning about the source]\n",
            "Selected source of evaluation: [your selection]\n",
            "\n",
            "\n",
            "\n",
            "SYSTEM:\n",
            "You are a helpful assistant.\n",
            "\n",
            "--------------------------------------------------\n",
            "\n",
            "Querying gpt-4.1...\n",
            "\n",
            "MODEL: gpt-4.1\n",
            "RESPONSE:\n",
            "Rhetorical Device Analysis:\n",
            "First, I consider the possible options: anaphora, apostrophe, chiasmus, hyperbole, rhetorical question. The sentence \"O tempora, o mores!\" repeats the exclamation \"O\" at the beginning of each phrase, which is a hallmark of anaphora (repetition of a word or phrase at the beginning of successive clauses). Apostrophe is a direct address to an absent or personified entity, which fits here as the speaker addresses \"times\" and \"morals.\" Chiasmus is a reversal of structure, which is not present. Hyperbole is exaggeration, but the sentence is an exclamation, not an exaggeration. Rhetorical question is a question posed for effect, but this sentence is not phrased as a question. While anaphora is present, the primary device is apostrophe, as the speaker directly addresses abstract concepts (\"tempora,\" \"mores\") with \"O.\" Since the instruction is to choose EXACTLY ONE, and apostrophe is the most defining device, I eliminate the others.\n",
            "Selected rhetorical device: apostrophe\n",
            "\n",
            "Sentiment Analysis:\n",
            "Possible options: strongly negative, mildly negative, neutral, mildly positive, strongly positive. The exclamation \"O tempora, o mores!\" expresses a lament or complaint about the state of the times and morals. The tone is not neutral or positive. The repetition and exclamatory nature indicate strong emotion, and the context of lament suggests negativity. Between \"strongly negative\" and \"mildly negative,\" the intensity of the exclamation and the double invocation (\"O... O...\") point toward \"strongly negative.\"\n",
            "Selected sentiment: strongly negative\n",
            "\n",
            "Source of Evaluation Analysis:\n",
            "Possible options: speaker to audience, speaker to subject, subject to speaker, audience to subject. The sentence is an exclamation where the speaker addresses \"tempora\" (times) and \"mores\" (morals), which are the subjects. The evaluation (lament\n",
            "--------------------------------------------------\n",
            "\n",
            "Querying gpt-4.1-mini...\n",
            "\n",
            "MODEL: gpt-4.1-mini\n",
            "RESPONSE:\n",
            "Rhetorical Device Analysis:  \n",
            "The sentence \"O tempora, o mores!\" contains the repeated exclamation \"O\" before two nouns, \"tempora\" (times) and \"mores\" (customs/morals). This repetition of the same word at the beginning of successive phrases is characteristic of anaphora. Apostrophe involves addressing an absent or personified entity, which could apply here since \"tempora\" and \"mores\" are abstract concepts, but the defining feature is the repetition of \"O.\" Chiasmus involves a specific ABBA word order, which is not present here. Hyperbole is an exaggeration, which is not clearly indicated by this short exclamation alone. Rhetorical question is a question posed for effect without expecting an answer, but this sentence is an exclamation, not a question. Therefore, the best fit is anaphora.\n",
            "\n",
            "Sentiment Analysis:  \n",
            "The phrase \"O tempora, o mores!\" expresses a lament or complaint about the times and morals. This suggests a negative evaluation. It is not strongly negative because the phrase is brief and more of an exclamation than a harsh condemnation. It is not neutral or positive because the tone implies dissatisfaction. Mildly negative fits best as it conveys disappointment or disapproval without extreme negativity.\n",
            "\n",
            "Source of Evaluation Analysis:  \n",
            "The speaker is addressing \"tempora\" and \"mores,\" which are the subjects of the lament. The evaluation is coming from the speaker directed toward these abstract subjects (the times and morals). It is not the audience evaluating the subject, nor the subject evaluating the speaker. The speaker is not addressing the audience directly with an evaluation of the audience or vice versa. Therefore, the source of evaluation is \"speaker to subject.\"\n",
            "\n",
            "Selected source of evaluation: speaker to subject\n",
            "\n",
            "Rhetorical device: anaphora  \n",
            "Sentiment: mildly negative  \n",
            "Source of evaluation: speaker to subject\n",
            "--------------------------------------------------\n",
            "\n",
            "Querying gpt-4.1-nano...\n",
            "\n",
            "MODEL: gpt-4.1-nano\n",
            "RESPONSE:\n",
            "Rhetorical device: apostrophe  \n",
            "- Possible options: anaphora, apostrophe, chiasmus, hyperbole, rhetorical question  \n",
            "- The phrase \"O tempora, o mores!\" directly addresses abstract concepts (\"tempora\" and \"mores\") as if calling out to them, which is characteristic of apostrophe.  \n",
            "- Anaphora involves repetition at the beginning of successive clauses, which is not present here.  \n",
            "- Chiasmus involves a crossing structure, which is not evident.  \n",
            "- Hyperbole involves exaggeration, which is not the primary feature here.  \n",
            "- Rhetorical question involves asking a question without expecting an answer, which is not the case.  \n",
            "- Therefore, the rhetorical device is apostrophe.\n",
            "\n",
            "Sentiment: strongly negative  \n",
            "- The exclamation \"O tempora, o mores!\" conveys a sense of lament or disapproval about the current times and customs.  \n",
            "- The tone suggests frustration or criticism, aligning with a strongly negative sentiment.  \n",
            "- The options \"mildly negative\" or \"neutral\" do not fully capture the emotional intensity implied.  \n",
            "- \"Strongly positive\" is inconsistent with the tone of lament.  \n",
            "- Thus, the sentiment is strongly negative.\n",
            "\n",
            "Source of evaluation: speaker to subject  \n",
            "- The speaker addresses \"tempora\" (times) and \"mores\" (customs), which are abstract concepts or subjects of the speaker's lament.  \n",
            "- The evaluation is directed from the speaker to these subjects, criticizing or lamenting them.  \n",
            "- The other options (speaker to audience, subject to speaker, audience to subject) do not fit as well because the speaker is directly addressing the concepts themselves, not the audience or another subject.  \n",
            "- Therefore, the source of evaluation is the speaker to the subject.\n",
            "\n",
            "Final answer:\n",
            "Rhetorical device: apostrophe  \n",
            "Sentiment: strongly negative  \n",
            "Source of evaluation: speaker to subject\n",
            "--------------------------------------------------\n"
          ]
        }
      ]
    }
  ]
}